{
 "cells": [
  {
   "cell_type": "markdown",
   "metadata": {},
   "source": [
    "# Python Insights - Analisando Dados com Python\n",
    "\n",
    "### Case - Cancelamento de Clientes\n",
    "\n",
    "Você foi contratado por uma empresa com mais de 800 mil clientes para um projeto de Dados. Recentemente a empresa percebeu que da sua base total de clientes, a maioria são clientes inativos, ou seja, que já cancelaram o serviço.\n",
    "\n",
    "Precisando melhorar seus resultados ela quer conseguir entender os principais motivos desses cancelamentos e quais as ações mais eficientes para reduzir esse número.\n",
    "\n",
    "Base de dados e arquivos: https://drive.google.com/drive/folders/1uDesZePdkhiraJmiyeZ-w5tfc8XsNYFZ?usp=drive_link"
   ]
  },
  {
   "cell_type": "code",
   "execution_count": null,
   "metadata": {},
   "outputs": [],
   "source": [
    "#Passo 1: Importar base dados\n",
    "#pip install pandas(ler base de dados) numpy(+funcionalidades pandas) openpyxl(+funcionalidades pandas) nbformat(compatibilidade graficos) ipykernel(compatibilidade gráficos) plotly(gerar gráficos)\n",
    "#!pip install pandas numpy openpyxl nbformat ipykernel plotly\n",
    "\n",
    "import pandas as pd\n",
    "\n",
    "#tabela = pd.read_csv(\"cancelamentos_sample.csv\")\n",
    "\n",
    "#Passo 2: Visualizar a base de dados\n",
    "    #entender quais informações eu tenho disponíveis\n",
    "    #procurar os problemas da base de dados\n",
    "\n",
    "#colunas inúteis - informação que não te ajuda, te atrapalha\n",
    "tabela = tabela.drop(columns=\"CustomerID\")\n",
    "display(tabela)"
   ]
  },
  {
   "cell_type": "code",
   "execution_count": null,
   "metadata": {},
   "outputs": [],
   "source": [
    "#Passo3: Corrigir os problemas da base de dados\n",
    "# #informações vazias ou no formato errado\n",
    "#display(tabela.info())\n",
    "tabela = tabela.dropna()\n",
    "#tabela = tabela.drop_duplicates() joga uma informações causo existam duas iguais\n",
    "\n",
    "display(tabela.info())\n",
    "#object é texto\n"
   ]
  },
  {
   "cell_type": "code",
   "execution_count": null,
   "metadata": {},
   "outputs": [],
   "source": [
    "#Passo4: Análise dos cancelamentos(quantos cancelaram, quantos não, qual a %)\n",
    "display(tabela[\"cancelou\"].value_counts()) \n",
    "\n",
    "# exibir em percentual = normalizado\n",
    "display(tabela[\"cancelou\"].value_counts(normalize=True))\n",
    "\n",
    "#display(tabela[\"cancelou\"].value_counts(normalize=True).map(\"{:.1%}\".format)) formatação de numero em porcentagem"
   ]
  },
  {
   "cell_type": "code",
   "execution_count": null,
   "metadata": {},
   "outputs": [],
   "source": [
    "#Passo5: Análise das causas dos cancelamentos dos clientes \n",
    "import plotly.express as px\n",
    "\n",
    "\n",
    "#para cada coluna da nossa tabela\n",
    "for coluna in tabela.columns:\n",
    "     #cria gráfico\n",
    "     grafico = px.histogram(tabela, x=coluna, color=\"cancelou\", text_auto=True)\n",
    "     #exibe o grafico\n",
    "     grafico.show() #usamos .show pq é imagem"
   ]
  },
  {
   "cell_type": "code",
   "execution_count": null,
   "metadata": {},
   "outputs": [],
   "source": [
    "#causas de cancelamento\n",
    "\n",
    "#todos os clientes de contrato mensal, cancelaram\n",
    "    #vamos dar descontos nos cotratos trimestrais e anuais\n",
    "#todosos clientes com mais de 20 dias de atraso, cancelaram\n",
    "    #criar um sistema de cobrança dos clientes que com 10 dias de atraso a gente fala td dia com ele\n",
    "#todos os clientes que ligaram mais de 4x pro call centr, cancelaram\n",
    "    #criar um alerta para um ciente que ligou mais de 2x pro call center\n",
    "\n",
    "#analisar se eu resolver esses 3 problemas, quanto cai o cancelamento?\n",
    "\n",
    "#duracao do contrato não pode ser mensal\n",
    "tabela = tabela[tabela[\"duracao_contrato\"]!=\"Monthly\"]\n",
    "\n",
    "# atrasos só podem ser até 20 dias\n",
    "tabela = tabela[tabela[\"dias_atraso\"]<=20]\n",
    "\n",
    "#ligações no call center só pode ser de até 4 ligações\n",
    "tabela = tabela[tabela[\"ligacoes_callcenter\"]<=4]\n",
    "\n",
    "#em percentual = normalizado\n",
    "display(tabela[\"cancelou\"].value_counts(normalize=True))"
   ]
  }
 ],
 "metadata": {
  "kernelspec": {
   "display_name": "Python 3",
   "language": "python",
   "name": "python3"
  },
  "language_info": {
   "codemirror_mode": {
    "name": "ipython",
    "version": 3
   },
   "file_extension": ".py",
   "mimetype": "text/x-python",
   "name": "python",
   "nbconvert_exporter": "python",
   "pygments_lexer": "ipython3",
   "version": "3.12.5"
  },
  "orig_nbformat": 4
 },
 "nbformat": 4,
 "nbformat_minor": 2
}
